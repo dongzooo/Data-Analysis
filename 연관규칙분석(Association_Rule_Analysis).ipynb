{
  "nbformat": 4,
  "nbformat_minor": 0,
  "metadata": {
    "colab": {
      "name": "연관규칙분석(Association Rule Analysis).ipynb",
      "provenance": [],
      "collapsed_sections": [],
      "include_colab_link": true
    },
    "kernelspec": {
      "name": "python3",
      "display_name": "Python 3"
    },
    "language_info": {
      "name": "python"
    }
  },
  "cells": [
    {
      "cell_type": "markdown",
      "metadata": {
        "id": "view-in-github",
        "colab_type": "text"
      },
      "source": [
        "<a href=\"https://colab.research.google.com/github/dongzooo/Data-Analysis/blob/main/%EC%97%B0%EA%B4%80%EA%B7%9C%EC%B9%99%EB%B6%84%EC%84%9D(Association_Rule_Analysis).ipynb\" target=\"_parent\"><img src=\"https://colab.research.google.com/assets/colab-badge.svg\" alt=\"Open In Colab\"/></a>"
      ]
    },
    {
      "cell_type": "code",
      "metadata": {
        "id": "iRBCyCyxmSdo"
      },
      "source": [
        "import itertools\n",
        "\n",
        "support = 5  # 50으로 하니 너무 많아 5로 줄임  \n",
        "confidence = 50\n"
      ],
      "execution_count": null,
      "outputs": []
    },
    {
      "cell_type": "code",
      "metadata": {
        "id": "vbjjPLjSnPDU"
      },
      "source": [
        "C1 = {}  ## 파이썬에서 {} 는 set을 의미. set은 중복을 허용하지 않음 C1은 후보 집합\n",
        "\n",
        "transaction = 0 ## 전체 트랜잭션 수\n",
        "\n",
        "D = []  ## 비어 있는 배열, 중간에 데이터를 저장하기 위함 \n",
        "T = []\n"
      ],
      "execution_count": null,
      "outputs": []
    },
    {
      "cell_type": "code",
      "metadata": {
        "id": "K4xCDTS4n2rR"
      },
      "source": [
        "data_path = \"sample_data/groceries.csv\"\n",
        "delimiter = \",\"\n",
        "\n",
        "with open(data_path, \"r\") as f:  # 끝에는 세미콜른이 아니고 콜른 \n",
        "    for line in f: # 끝에는 세미콜른이 아니고 콜른 \n",
        "        T = []\n",
        "        transaction = transaction + 1\n",
        "        for word in line.split(delimiter):\n",
        "            T.append(word)\n",
        "            if word not in C1.keys():\n",
        "                C1[word] = 1\n",
        "            else:\n",
        "                count = C1[word]\n",
        "                C1[word] = count + 1\n",
        "        D.append(T)\n",
        "\n",
        "        # print(line)"
      ],
      "execution_count": null,
      "outputs": []
    },
    {
      "cell_type": "code",
      "metadata": {
        "colab": {
          "base_uri": "https://localhost:8080/"
        },
        "id": "HzHwbH-Io32k",
        "outputId": "cfcb982d-0c3b-41fc-e405-178c77410692"
      },
      "source": [
        "# print(D)\n",
        "\n",
        "L1 = []\n",
        "\n",
        "for key in C1:\n",
        "    if(C1[key]*100/transaction) >= support:\n",
        "        print(key + \": \" + str(C1[key]*100/transaction))\n",
        "        list = []\n",
        "        list.append(key)\n",
        "        L1.append(list)\n"
      ],
      "execution_count": null,
      "outputs": [
        {
          "output_type": "stream",
          "text": [
            "citrus fruit: 8.052872394509405\n",
            "tropical fruit: 10.157600406710728\n",
            "yogurt: 12.730045754956787\n",
            "pip fruit: 7.1377732587697\n",
            "other vegetables: 18.017285205897306\n",
            "whole milk: 23.507880020335538\n",
            "butter: 5.327910523640061\n",
            "rolls/buns: 14.865277071682765\n",
            "bottled water: 8.469750889679716\n",
            "curd: 5.063548551093035\n",
            "frankfurter: 5.785460091509914\n",
            "soda\n",
            ": 5.8769700050838845\n",
            "fruit/vegetable juice: 5.104219623792577\n",
            "newspapers\n",
            ": 7.036095577020844\n",
            "root vegetables: 10.482968988307066\n",
            "sausage: 9.140823589222165\n",
            "soda: 11.560752414844941\n",
            "brown bread: 5.338078291814947\n",
            "shopping bags\n",
            ": 9.852567361464159\n",
            "pork: 5.480427046263345\n",
            "whipped/sour cream: 6.385358413828165\n",
            "pastry: 7.229283172343671\n",
            "domestic eggs: 5.7346212506354854\n"
          ],
          "name": "stdout"
        }
      ]
    },
    {
      "cell_type": "code",
      "metadata": {
        "colab": {
          "base_uri": "https://localhost:8080/"
        },
        "id": "0GL-TFj3qv8E",
        "outputId": "b3d7ec4b-3e11-43e0-fbe4-1d5ab208a403"
      },
      "source": [
        "L1"
      ],
      "execution_count": null,
      "outputs": [
        {
          "output_type": "execute_result",
          "data": {
            "text/plain": [
              "[['citrus fruit'],\n",
              " ['tropical fruit'],\n",
              " ['yogurt'],\n",
              " ['pip fruit'],\n",
              " ['other vegetables'],\n",
              " ['whole milk'],\n",
              " ['butter'],\n",
              " ['rolls/buns'],\n",
              " ['bottled water'],\n",
              " ['curd'],\n",
              " ['frankfurter'],\n",
              " ['soda\\n'],\n",
              " ['fruit/vegetable juice'],\n",
              " ['newspapers\\n'],\n",
              " ['root vegetables'],\n",
              " ['sausage'],\n",
              " ['soda'],\n",
              " ['brown bread'],\n",
              " ['shopping bags\\n'],\n",
              " ['pork'],\n",
              " ['whipped/sour cream'],\n",
              " ['pastry'],\n",
              " ['domestic eggs']]"
            ]
          },
          "metadata": {
            "tags": []
          },
          "execution_count": 35
        }
      ]
    },
    {
      "cell_type": "code",
      "metadata": {
        "id": "Y7hCbyXSr5dX"
      },
      "source": [
        "def apriori_gen(Lk_1, k):\n",
        "    length = k\n",
        "    Ck = []\n",
        "    for list1 in Lk_1:\n",
        "        for list2 in Lk_1:\n",
        "            count = 0\n",
        "            c = []\n",
        "            if list1 != list2:\n",
        "                while count < length-1: \n",
        "                    if list1[count] != list2[count]:\n",
        "                        break\n",
        "                    else:\n",
        "                        count += 1  #  count = count + 1\n",
        "                else:\n",
        "                    if list1[length-1] != list2[length-1]:\n",
        "                        for item in list1:\n",
        "                            c.append(item)\n",
        "                        c.append(list2[length-1])\n",
        "                        if not has_infrequent_subset(c, Lk_1, k):\n",
        "                            Ck.append(c)\n",
        "                            c = []\n",
        "    return Ck\n"
      ],
      "execution_count": null,
      "outputs": []
    },
    {
      "cell_type": "code",
      "metadata": {
        "id": "0RnSYos1tXtj"
      },
      "source": [
        "def findsubsets(S, m):\n",
        "    return (itertools.combinations(S, m))\n"
      ],
      "execution_count": null,
      "outputs": []
    },
    {
      "cell_type": "code",
      "metadata": {
        "id": "uCVEzGdEtivW"
      },
      "source": [
        "def has_infrequent_subset(c, Lk_1, k):\n",
        "    list = []\n",
        "    list = findsubsets(c, k)\n",
        "    for item in list:\n",
        "        s = []\n",
        "        for l in item:\n",
        "            s.append(l)\n",
        "        s.sort()\n",
        "        if s not in Lk_1:\n",
        "            return True\n",
        "    return False"
      ],
      "execution_count": null,
      "outputs": []
    },
    {
      "cell_type": "code",
      "metadata": {
        "id": "RB67lwfctuSD"
      },
      "source": [
        "## step 1: frequent itemset을 찾아내는 함수\n",
        "def frequent_itemsets():\n",
        "    k = 2\n",
        "    Lk_1 = []\n",
        "    Lk = []\n",
        "    L = []\n",
        "    count = 0\n",
        "    transactions = 0\n",
        "    for item in L1:\n",
        "        Lk_1.append(item)\n",
        "    while Lk_1 != []:\n",
        "        Ck = []\n",
        "        Lk = []\n",
        "        Ck = apriori_gen(Lk_1, k-1)\n",
        "        #print \"-------------------------CANDIDATE %d-ITEMSET---------------------\" % k\n",
        "        #print \"Ck: %s\" % Ck\n",
        "        #print \"------------------------------------------------------------------\"\n",
        "        for c in Ck:\n",
        "            count = 0\n",
        "            transactions = 0\n",
        "            s = set(c)\n",
        "            for T in D:\n",
        "                transactions += 1\n",
        "                t = set(T)\n",
        "                if s.issubset(t) == True:\n",
        "                    count += 1\n",
        "            if (100 * count/transactions) >= support:\n",
        "                c.sort()\n",
        "                Lk.append(c)\n",
        "        Lk_1 = []\n",
        "        print (\"-----------------------FREQUENT %d-ITEMSET------------------------\" % k)\n",
        "        print (Lk)\n",
        "        print (\"------------------------------------------------------------------\")\n",
        "        for l in Lk:\n",
        "            Lk_1.append(l)\n",
        "        k += 1\n",
        "        if Lk != []:\n",
        "            L.append(Lk)\n",
        "    \n",
        "    return L\n",
        " "
      ],
      "execution_count": null,
      "outputs": []
    },
    {
      "cell_type": "code",
      "metadata": {
        "id": "ZACuoZEJt0HV"
      },
      "source": [
        "## step 2: 연관규칙을 찾아내는 함수\n",
        "def generate_association_rules():\n",
        "    s = []\n",
        "    r = []\n",
        "    length = 0\n",
        "    count = 1\n",
        "    inc1 = 0\n",
        "    inc2 = 0\n",
        "    num = 1\n",
        "    m = []\n",
        "    L= frequent_itemsets()\n",
        "    print (\"---------------------ASSOCIATION RULES------------------\")\n",
        "    print (\"RULES \\t SUPPORT \\t CONFIDENCE\")\n",
        "    print (\"--------------------------------------------------------\")\n",
        "    for list in L:\n",
        "        for l in list:\n",
        "            length = len(l)\n",
        "            count = 1\n",
        "            while count < length: \n",
        "                s = []\n",
        "                r = findsubsets(l,count)\n",
        "                count += 1\n",
        "                for item in r:\n",
        "                    inc1 = 0\n",
        "                    inc2 = 0\n",
        "                    s = []\n",
        "                    m = []\n",
        "                    for i in item:\n",
        "                        s.append(i)\n",
        "                    for T in D:\n",
        "                        if set(s).issubset(set(T)) == True:\n",
        "                            inc1 += 1\n",
        "                        if set(l).issubset(set(T)) == True:\n",
        "                            inc2 += 1\n",
        "                    if 100*inc2/inc1 >= confidence:\n",
        "                        for index in l:\n",
        "                            if index not in s:\n",
        "                                m.append(index)\n",
        "                        print (\"Rule#  %d : %s ==> %s %d %d\" %(num, s, m, 100*inc2/len(D), 100*inc2/inc1))\n",
        "                        num += 1  "
      ],
      "execution_count": null,
      "outputs": []
    },
    {
      "cell_type": "code",
      "metadata": {
        "colab": {
          "base_uri": "https://localhost:8080/"
        },
        "id": "iEJbSAimuKmA",
        "outputId": "3a92c3fa-ca6f-4c0d-cf3c-87875ccaef67"
      },
      "source": [
        "# 제일 상단의 하이퍼파라미터를 여기서 변경하여 적용 \n",
        "support = 1  # 50으로 하니 너무 많아 5로 줄임  \n",
        "confidence = 50\n",
        "\n",
        "generate_association_rules()\n"
      ],
      "execution_count": null,
      "outputs": [
        {
          "output_type": "stream",
          "text": [
            "-----------------------FREQUENT 2-ITEMSET------------------------\n",
            "[['citrus fruit', 'tropical fruit'], ['citrus fruit', 'yogurt'], ['citrus fruit', 'pip fruit'], ['citrus fruit', 'other vegetables'], ['citrus fruit', 'whole milk'], ['citrus fruit', 'rolls/buns'], ['bottled water', 'citrus fruit'], ['citrus fruit', 'root vegetables'], ['citrus fruit', 'sausage'], ['citrus fruit', 'soda'], ['citrus fruit', 'whipped/sour cream'], ['citrus fruit', 'tropical fruit'], ['tropical fruit', 'yogurt'], ['pip fruit', 'tropical fruit'], ['other vegetables', 'tropical fruit'], ['tropical fruit', 'whole milk'], ['rolls/buns', 'tropical fruit'], ['bottled water', 'tropical fruit'], ['newspapers\\n', 'tropical fruit'], ['root vegetables', 'tropical fruit'], ['sausage', 'tropical fruit'], ['soda', 'tropical fruit'], ['shopping bags\\n', 'tropical fruit'], ['tropical fruit', 'whipped/sour cream'], ['pastry', 'tropical fruit'], ['domestic eggs', 'tropical fruit'], ['citrus fruit', 'yogurt'], ['tropical fruit', 'yogurt'], ['pip fruit', 'yogurt'], ['other vegetables', 'yogurt'], ['whole milk', 'yogurt'], ['butter', 'yogurt'], ['rolls/buns', 'yogurt'], ['bottled water', 'yogurt'], ['curd', 'yogurt'], ['frankfurter', 'yogurt'], ['fruit/vegetable juice', 'yogurt'], ['newspapers\\n', 'yogurt'], ['root vegetables', 'yogurt'], ['sausage', 'yogurt'], ['soda', 'yogurt'], ['brown bread', 'yogurt'], ['shopping bags\\n', 'yogurt'], ['whipped/sour cream', 'yogurt'], ['pastry', 'yogurt'], ['domestic eggs', 'yogurt'], ['citrus fruit', 'pip fruit'], ['pip fruit', 'tropical fruit'], ['pip fruit', 'yogurt'], ['other vegetables', 'pip fruit'], ['pip fruit', 'whole milk'], ['pip fruit', 'rolls/buns'], ['pip fruit', 'root vegetables'], ['pip fruit', 'sausage'], ['pip fruit', 'soda'], ['citrus fruit', 'other vegetables'], ['other vegetables', 'tropical fruit'], ['other vegetables', 'yogurt'], ['other vegetables', 'pip fruit'], ['other vegetables', 'whole milk'], ['butter', 'other vegetables'], ['other vegetables', 'rolls/buns'], ['bottled water', 'other vegetables'], ['curd', 'other vegetables'], ['frankfurter', 'other vegetables'], ['fruit/vegetable juice', 'other vegetables'], ['newspapers\\n', 'other vegetables'], ['other vegetables', 'root vegetables'], ['other vegetables', 'sausage'], ['other vegetables', 'soda'], ['brown bread', 'other vegetables'], ['other vegetables', 'shopping bags\\n'], ['other vegetables', 'pork'], ['other vegetables', 'whipped/sour cream'], ['other vegetables', 'pastry'], ['domestic eggs', 'other vegetables'], ['citrus fruit', 'whole milk'], ['tropical fruit', 'whole milk'], ['whole milk', 'yogurt'], ['pip fruit', 'whole milk'], ['other vegetables', 'whole milk'], ['butter', 'whole milk'], ['rolls/buns', 'whole milk'], ['bottled water', 'whole milk'], ['curd', 'whole milk'], ['frankfurter', 'whole milk'], ['fruit/vegetable juice', 'whole milk'], ['newspapers\\n', 'whole milk'], ['root vegetables', 'whole milk'], ['sausage', 'whole milk'], ['soda', 'whole milk'], ['brown bread', 'whole milk'], ['shopping bags\\n', 'whole milk'], ['pork', 'whole milk'], ['whipped/sour cream', 'whole milk'], ['pastry', 'whole milk'], ['domestic eggs', 'whole milk'], ['butter', 'yogurt'], ['butter', 'other vegetables'], ['butter', 'whole milk'], ['butter', 'rolls/buns'], ['butter', 'root vegetables'], ['citrus fruit', 'rolls/buns'], ['rolls/buns', 'tropical fruit'], ['rolls/buns', 'yogurt'], ['pip fruit', 'rolls/buns'], ['other vegetables', 'rolls/buns'], ['rolls/buns', 'whole milk'], ['butter', 'rolls/buns'], ['bottled water', 'rolls/buns'], ['frankfurter', 'rolls/buns'], ['rolls/buns', 'soda\\n'], ['newspapers\\n', 'rolls/buns'], ['rolls/buns', 'root vegetables'], ['rolls/buns', 'sausage'], ['rolls/buns', 'soda'], ['brown bread', 'rolls/buns'], ['rolls/buns', 'shopping bags\\n'], ['pork', 'rolls/buns'], ['rolls/buns', 'whipped/sour cream'], ['pastry', 'rolls/buns'], ['domestic eggs', 'rolls/buns'], ['bottled water', 'citrus fruit'], ['bottled water', 'tropical fruit'], ['bottled water', 'yogurt'], ['bottled water', 'other vegetables'], ['bottled water', 'whole milk'], ['bottled water', 'rolls/buns'], ['bottled water', 'fruit/vegetable juice'], ['bottled water', 'newspapers\\n'], ['bottled water', 'root vegetables'], ['bottled water', 'soda'], ['bottled water', 'shopping bags\\n'], ['curd', 'yogurt'], ['curd', 'other vegetables'], ['curd', 'whole milk'], ['curd', 'root vegetables'], ['frankfurter', 'yogurt'], ['frankfurter', 'other vegetables'], ['frankfurter', 'whole milk'], ['frankfurter', 'rolls/buns'], ['rolls/buns', 'soda\\n'], ['fruit/vegetable juice', 'yogurt'], ['fruit/vegetable juice', 'other vegetables'], ['fruit/vegetable juice', 'whole milk'], ['bottled water', 'fruit/vegetable juice'], ['fruit/vegetable juice', 'soda'], ['fruit/vegetable juice', 'shopping bags\\n'], ['newspapers\\n', 'tropical fruit'], ['newspapers\\n', 'yogurt'], ['newspapers\\n', 'other vegetables'], ['newspapers\\n', 'whole milk'], ['newspapers\\n', 'rolls/buns'], ['bottled water', 'newspapers\\n'], ['newspapers\\n', 'soda'], ['citrus fruit', 'root vegetables'], ['root vegetables', 'tropical fruit'], ['root vegetables', 'yogurt'], ['pip fruit', 'root vegetables'], ['other vegetables', 'root vegetables'], ['root vegetables', 'whole milk'], ['butter', 'root vegetables'], ['rolls/buns', 'root vegetables'], ['bottled water', 'root vegetables'], ['curd', 'root vegetables'], ['root vegetables', 'sausage'], ['root vegetables', 'soda'], ['root vegetables', 'shopping bags\\n'], ['pork', 'root vegetables'], ['root vegetables', 'whipped/sour cream'], ['domestic eggs', 'root vegetables'], ['citrus fruit', 'sausage'], ['sausage', 'tropical fruit'], ['sausage', 'yogurt'], ['pip fruit', 'sausage'], ['other vegetables', 'sausage'], ['sausage', 'whole milk'], ['rolls/buns', 'sausage'], ['root vegetables', 'sausage'], ['sausage', 'soda'], ['sausage', 'shopping bags\\n'], ['pastry', 'sausage'], ['citrus fruit', 'soda'], ['soda', 'tropical fruit'], ['soda', 'yogurt'], ['pip fruit', 'soda'], ['other vegetables', 'soda'], ['soda', 'whole milk'], ['rolls/buns', 'soda'], ['bottled water', 'soda'], ['fruit/vegetable juice', 'soda'], ['newspapers\\n', 'soda'], ['root vegetables', 'soda'], ['sausage', 'soda'], ['brown bread', 'soda'], ['shopping bags\\n', 'soda'], ['pastry', 'soda'], ['domestic eggs', 'soda'], ['brown bread', 'yogurt'], ['brown bread', 'other vegetables'], ['brown bread', 'whole milk'], ['brown bread', 'rolls/buns'], ['brown bread', 'soda'], ['shopping bags\\n', 'tropical fruit'], ['shopping bags\\n', 'yogurt'], ['other vegetables', 'shopping bags\\n'], ['shopping bags\\n', 'whole milk'], ['rolls/buns', 'shopping bags\\n'], ['bottled water', 'shopping bags\\n'], ['fruit/vegetable juice', 'shopping bags\\n'], ['root vegetables', 'shopping bags\\n'], ['sausage', 'shopping bags\\n'], ['shopping bags\\n', 'soda'], ['pastry', 'shopping bags\\n'], ['other vegetables', 'pork'], ['pork', 'whole milk'], ['pork', 'rolls/buns'], ['pork', 'root vegetables'], ['citrus fruit', 'whipped/sour cream'], ['tropical fruit', 'whipped/sour cream'], ['whipped/sour cream', 'yogurt'], ['other vegetables', 'whipped/sour cream'], ['whipped/sour cream', 'whole milk'], ['rolls/buns', 'whipped/sour cream'], ['root vegetables', 'whipped/sour cream'], ['pastry', 'tropical fruit'], ['pastry', 'yogurt'], ['other vegetables', 'pastry'], ['pastry', 'whole milk'], ['pastry', 'rolls/buns'], ['pastry', 'sausage'], ['pastry', 'soda'], ['pastry', 'shopping bags\\n'], ['domestic eggs', 'tropical fruit'], ['domestic eggs', 'yogurt'], ['domestic eggs', 'other vegetables'], ['domestic eggs', 'whole milk'], ['domestic eggs', 'rolls/buns'], ['domestic eggs', 'root vegetables'], ['domestic eggs', 'soda']]\n",
            "------------------------------------------------------------------\n",
            "-----------------------FREQUENT 3-ITEMSET------------------------\n",
            "[['citrus fruit', 'whole milk', 'yogurt'], ['citrus fruit', 'whole milk', 'yogurt'], ['citrus fruit', 'other vegetables', 'whole milk'], ['citrus fruit', 'other vegetables', 'root vegetables'], ['citrus fruit', 'other vegetables', 'whole milk'], ['citrus fruit', 'other vegetables', 'root vegetables'], ['citrus fruit', 'whole milk', 'yogurt'], ['citrus fruit', 'other vegetables', 'whole milk'], ['citrus fruit', 'whole milk', 'yogurt'], ['citrus fruit', 'other vegetables', 'whole milk'], ['citrus fruit', 'other vegetables', 'root vegetables'], ['citrus fruit', 'other vegetables', 'root vegetables'], ['tropical fruit', 'whole milk', 'yogurt'], ['tropical fruit', 'whole milk', 'yogurt'], ['other vegetables', 'tropical fruit', 'yogurt'], ['other vegetables', 'tropical fruit', 'yogurt'], ['other vegetables', 'tropical fruit', 'whole milk'], ['other vegetables', 'root vegetables', 'tropical fruit'], ['other vegetables', 'tropical fruit', 'whole milk'], ['other vegetables', 'root vegetables', 'tropical fruit'], ['tropical fruit', 'whole milk', 'yogurt'], ['tropical fruit', 'whole milk', 'yogurt'], ['rolls/buns', 'tropical fruit', 'whole milk'], ['rolls/buns', 'tropical fruit', 'whole milk'], ['root vegetables', 'tropical fruit', 'whole milk'], ['root vegetables', 'tropical fruit', 'whole milk'], ['citrus fruit', 'whole milk', 'yogurt'], ['citrus fruit', 'whole milk', 'yogurt'], ['tropical fruit', 'whole milk', 'yogurt'], ['tropical fruit', 'whole milk', 'yogurt'], ['other vegetables', 'tropical fruit', 'yogurt'], ['other vegetables', 'tropical fruit', 'yogurt'], ['other vegetables', 'whole milk', 'yogurt'], ['other vegetables', 'rolls/buns', 'yogurt'], ['other vegetables', 'root vegetables', 'yogurt'], ['other vegetables', 'whipped/sour cream', 'yogurt'], ['other vegetables', 'whole milk', 'yogurt'], ['other vegetables', 'rolls/buns', 'yogurt'], ['other vegetables', 'root vegetables', 'yogurt'], ['other vegetables', 'whipped/sour cream', 'yogurt'], ['rolls/buns', 'whole milk', 'yogurt'], ['rolls/buns', 'whole milk', 'yogurt'], ['root vegetables', 'whole milk', 'yogurt'], ['root vegetables', 'whole milk', 'yogurt'], ['whipped/sour cream', 'whole milk', 'yogurt'], ['whipped/sour cream', 'whole milk', 'yogurt'], ['other vegetables', 'pip fruit', 'whole milk'], ['other vegetables', 'pip fruit', 'whole milk'], ['citrus fruit', 'other vegetables', 'whole milk'], ['citrus fruit', 'other vegetables', 'root vegetables'], ['citrus fruit', 'other vegetables', 'whole milk'], ['citrus fruit', 'other vegetables', 'root vegetables'], ['other vegetables', 'tropical fruit', 'yogurt'], ['other vegetables', 'tropical fruit', 'yogurt'], ['other vegetables', 'tropical fruit', 'whole milk'], ['other vegetables', 'root vegetables', 'tropical fruit'], ['other vegetables', 'tropical fruit', 'whole milk'], ['other vegetables', 'root vegetables', 'tropical fruit'], ['other vegetables', 'tropical fruit', 'yogurt'], ['other vegetables', 'tropical fruit', 'yogurt'], ['other vegetables', 'whole milk', 'yogurt'], ['other vegetables', 'rolls/buns', 'yogurt'], ['other vegetables', 'root vegetables', 'yogurt'], ['other vegetables', 'whipped/sour cream', 'yogurt'], ['other vegetables', 'whole milk', 'yogurt'], ['other vegetables', 'rolls/buns', 'yogurt'], ['other vegetables', 'root vegetables', 'yogurt'], ['other vegetables', 'whipped/sour cream', 'yogurt'], ['other vegetables', 'pip fruit', 'whole milk'], ['other vegetables', 'pip fruit', 'whole milk'], ['other vegetables', 'tropical fruit', 'whole milk'], ['other vegetables', 'whole milk', 'yogurt'], ['other vegetables', 'pip fruit', 'whole milk'], ['other vegetables', 'tropical fruit', 'whole milk'], ['other vegetables', 'whole milk', 'yogurt'], ['other vegetables', 'pip fruit', 'whole milk'], ['other vegetables', 'rolls/buns', 'whole milk'], ['other vegetables', 'root vegetables', 'whole milk'], ['other vegetables', 'sausage', 'whole milk'], ['other vegetables', 'soda', 'whole milk'], ['other vegetables', 'pork', 'whole milk'], ['other vegetables', 'whipped/sour cream', 'whole milk'], ['other vegetables', 'rolls/buns', 'whole milk'], ['other vegetables', 'root vegetables', 'whole milk'], ['other vegetables', 'sausage', 'whole milk'], ['other vegetables', 'soda', 'whole milk'], ['other vegetables', 'pork', 'whole milk'], ['other vegetables', 'whipped/sour cream', 'whole milk'], ['butter', 'other vegetables', 'whole milk'], ['butter', 'other vegetables', 'whole milk'], ['other vegetables', 'rolls/buns', 'yogurt'], ['other vegetables', 'rolls/buns', 'yogurt'], ['other vegetables', 'rolls/buns', 'whole milk'], ['other vegetables', 'rolls/buns', 'root vegetables'], ['other vegetables', 'rolls/buns', 'whole milk'], ['other vegetables', 'rolls/buns', 'root vegetables'], ['other vegetables', 'root vegetables', 'tropical fruit'], ['other vegetables', 'root vegetables', 'yogurt'], ['other vegetables', 'root vegetables', 'tropical fruit'], ['other vegetables', 'root vegetables', 'yogurt'], ['other vegetables', 'root vegetables', 'whole milk'], ['other vegetables', 'rolls/buns', 'root vegetables'], ['other vegetables', 'root vegetables', 'whole milk'], ['other vegetables', 'rolls/buns', 'root vegetables'], ['other vegetables', 'sausage', 'whole milk'], ['other vegetables', 'sausage', 'whole milk'], ['other vegetables', 'soda', 'whole milk'], ['other vegetables', 'soda', 'whole milk'], ['other vegetables', 'pork', 'whole milk'], ['other vegetables', 'pork', 'whole milk'], ['other vegetables', 'whipped/sour cream', 'yogurt'], ['other vegetables', 'whipped/sour cream', 'yogurt'], ['other vegetables', 'whipped/sour cream', 'whole milk'], ['other vegetables', 'whipped/sour cream', 'whole milk'], ['domestic eggs', 'other vegetables', 'whole milk'], ['domestic eggs', 'other vegetables', 'whole milk'], ['citrus fruit', 'whole milk', 'yogurt'], ['citrus fruit', 'other vegetables', 'whole milk'], ['citrus fruit', 'whole milk', 'yogurt'], ['citrus fruit', 'other vegetables', 'whole milk'], ['tropical fruit', 'whole milk', 'yogurt'], ['tropical fruit', 'whole milk', 'yogurt'], ['other vegetables', 'tropical fruit', 'whole milk'], ['other vegetables', 'whole milk', 'yogurt'], ['other vegetables', 'pip fruit', 'whole milk'], ['other vegetables', 'tropical fruit', 'whole milk'], ['other vegetables', 'whole milk', 'yogurt'], ['other vegetables', 'pip fruit', 'whole milk'], ['other vegetables', 'rolls/buns', 'whole milk'], ['other vegetables', 'root vegetables', 'whole milk'], ['other vegetables', 'sausage', 'whole milk'], ['other vegetables', 'soda', 'whole milk'], ['other vegetables', 'pork', 'whole milk'], ['other vegetables', 'whipped/sour cream', 'whole milk'], ['other vegetables', 'rolls/buns', 'whole milk'], ['other vegetables', 'root vegetables', 'whole milk'], ['other vegetables', 'sausage', 'whole milk'], ['other vegetables', 'soda', 'whole milk'], ['other vegetables', 'pork', 'whole milk'], ['other vegetables', 'whipped/sour cream', 'whole milk'], ['butter', 'other vegetables', 'whole milk'], ['butter', 'other vegetables', 'whole milk'], ['rolls/buns', 'tropical fruit', 'whole milk'], ['rolls/buns', 'whole milk', 'yogurt'], ['rolls/buns', 'tropical fruit', 'whole milk'], ['rolls/buns', 'whole milk', 'yogurt'], ['rolls/buns', 'root vegetables', 'whole milk'], ['rolls/buns', 'root vegetables', 'whole milk'], ['root vegetables', 'tropical fruit', 'whole milk'], ['root vegetables', 'whole milk', 'yogurt'], ['root vegetables', 'tropical fruit', 'whole milk'], ['root vegetables', 'whole milk', 'yogurt'], ['whipped/sour cream', 'whole milk', 'yogurt'], ['whipped/sour cream', 'whole milk', 'yogurt'], ['domestic eggs', 'other vegetables', 'whole milk'], ['domestic eggs', 'other vegetables', 'whole milk'], ['butter', 'other vegetables', 'whole milk'], ['butter', 'other vegetables', 'whole milk'], ['butter', 'other vegetables', 'whole milk'], ['butter', 'other vegetables', 'whole milk'], ['rolls/buns', 'tropical fruit', 'whole milk'], ['rolls/buns', 'tropical fruit', 'whole milk'], ['rolls/buns', 'whole milk', 'yogurt'], ['rolls/buns', 'whole milk', 'yogurt'], ['other vegetables', 'rolls/buns', 'yogurt'], ['other vegetables', 'rolls/buns', 'yogurt'], ['other vegetables', 'rolls/buns', 'whole milk'], ['other vegetables', 'rolls/buns', 'root vegetables'], ['other vegetables', 'rolls/buns', 'whole milk'], ['other vegetables', 'rolls/buns', 'root vegetables'], ['rolls/buns', 'tropical fruit', 'whole milk'], ['rolls/buns', 'whole milk', 'yogurt'], ['rolls/buns', 'tropical fruit', 'whole milk'], ['rolls/buns', 'whole milk', 'yogurt'], ['rolls/buns', 'root vegetables', 'whole milk'], ['rolls/buns', 'root vegetables', 'whole milk'], ['rolls/buns', 'root vegetables', 'whole milk'], ['rolls/buns', 'root vegetables', 'whole milk'], ['citrus fruit', 'other vegetables', 'root vegetables'], ['citrus fruit', 'other vegetables', 'root vegetables'], ['root vegetables', 'tropical fruit', 'whole milk'], ['root vegetables', 'tropical fruit', 'whole milk'], ['root vegetables', 'whole milk', 'yogurt'], ['root vegetables', 'whole milk', 'yogurt'], ['other vegetables', 'root vegetables', 'tropical fruit'], ['other vegetables', 'root vegetables', 'yogurt'], ['other vegetables', 'root vegetables', 'tropical fruit'], ['other vegetables', 'root vegetables', 'yogurt'], ['other vegetables', 'root vegetables', 'whole milk'], ['other vegetables', 'rolls/buns', 'root vegetables'], ['other vegetables', 'root vegetables', 'whole milk'], ['other vegetables', 'rolls/buns', 'root vegetables'], ['root vegetables', 'tropical fruit', 'whole milk'], ['root vegetables', 'whole milk', 'yogurt'], ['root vegetables', 'tropical fruit', 'whole milk'], ['root vegetables', 'whole milk', 'yogurt'], ['rolls/buns', 'root vegetables', 'whole milk'], ['rolls/buns', 'root vegetables', 'whole milk'], ['other vegetables', 'sausage', 'whole milk'], ['other vegetables', 'sausage', 'whole milk'], ['other vegetables', 'soda', 'whole milk'], ['other vegetables', 'soda', 'whole milk'], ['other vegetables', 'pork', 'whole milk'], ['other vegetables', 'pork', 'whole milk'], ['whipped/sour cream', 'whole milk', 'yogurt'], ['whipped/sour cream', 'whole milk', 'yogurt'], ['other vegetables', 'whipped/sour cream', 'yogurt'], ['other vegetables', 'whipped/sour cream', 'yogurt'], ['other vegetables', 'whipped/sour cream', 'whole milk'], ['other vegetables', 'whipped/sour cream', 'whole milk'], ['whipped/sour cream', 'whole milk', 'yogurt'], ['whipped/sour cream', 'whole milk', 'yogurt'], ['domestic eggs', 'other vegetables', 'whole milk'], ['domestic eggs', 'other vegetables', 'whole milk'], ['domestic eggs', 'other vegetables', 'whole milk'], ['domestic eggs', 'other vegetables', 'whole milk']]\n",
            "------------------------------------------------------------------\n",
            "-----------------------FREQUENT 4-ITEMSET------------------------\n",
            "[]\n",
            "------------------------------------------------------------------\n",
            "---------------------ASSOCIATION RULES------------------\n",
            "RULES \t SUPPORT \t CONFIDENCE\n",
            "--------------------------------------------------------\n",
            "Rule#  1 : ['butter'] ==> ['whole milk'] 2 51\n",
            "Rule#  2 : ['curd'] ==> ['whole milk'] 2 50\n",
            "Rule#  3 : ['butter'] ==> ['whole milk'] 2 51\n",
            "Rule#  4 : ['curd'] ==> ['whole milk'] 2 50\n",
            "Rule#  5 : ['citrus fruit', 'root vegetables'] ==> ['other vegetables'] 1 57\n",
            "Rule#  6 : ['citrus fruit', 'root vegetables'] ==> ['other vegetables'] 1 57\n",
            "Rule#  7 : ['citrus fruit', 'root vegetables'] ==> ['other vegetables'] 1 57\n",
            "Rule#  8 : ['citrus fruit', 'root vegetables'] ==> ['other vegetables'] 1 57\n",
            "Rule#  9 : ['tropical fruit', 'yogurt'] ==> ['whole milk'] 1 51\n",
            "Rule#  10 : ['tropical fruit', 'yogurt'] ==> ['whole milk'] 1 51\n",
            "Rule#  11 : ['root vegetables', 'tropical fruit'] ==> ['other vegetables'] 1 57\n",
            "Rule#  12 : ['root vegetables', 'tropical fruit'] ==> ['other vegetables'] 1 57\n",
            "Rule#  13 : ['tropical fruit', 'yogurt'] ==> ['whole milk'] 1 51\n",
            "Rule#  14 : ['tropical fruit', 'yogurt'] ==> ['whole milk'] 1 51\n",
            "Rule#  15 : ['root vegetables', 'tropical fruit'] ==> ['whole milk'] 1 55\n",
            "Rule#  16 : ['root vegetables', 'tropical fruit'] ==> ['whole milk'] 1 55\n",
            "Rule#  17 : ['tropical fruit', 'yogurt'] ==> ['whole milk'] 1 51\n",
            "Rule#  18 : ['tropical fruit', 'yogurt'] ==> ['whole milk'] 1 51\n",
            "Rule#  19 : ['other vegetables', 'yogurt'] ==> ['whole milk'] 2 52\n",
            "Rule#  20 : ['root vegetables', 'yogurt'] ==> ['other vegetables'] 1 50\n",
            "Rule#  21 : ['whipped/sour cream', 'yogurt'] ==> ['other vegetables'] 1 51\n",
            "Rule#  22 : ['other vegetables', 'yogurt'] ==> ['whole milk'] 2 52\n",
            "Rule#  23 : ['root vegetables', 'yogurt'] ==> ['other vegetables'] 1 50\n",
            "Rule#  24 : ['whipped/sour cream', 'yogurt'] ==> ['other vegetables'] 1 51\n",
            "Rule#  25 : ['root vegetables', 'yogurt'] ==> ['whole milk'] 1 56\n",
            "Rule#  26 : ['root vegetables', 'yogurt'] ==> ['whole milk'] 1 56\n",
            "Rule#  27 : ['whipped/sour cream', 'yogurt'] ==> ['whole milk'] 1 54\n",
            "Rule#  28 : ['whipped/sour cream', 'yogurt'] ==> ['whole milk'] 1 54\n",
            "Rule#  29 : ['other vegetables', 'pip fruit'] ==> ['whole milk'] 1 52\n",
            "Rule#  30 : ['other vegetables', 'pip fruit'] ==> ['whole milk'] 1 52\n",
            "Rule#  31 : ['citrus fruit', 'root vegetables'] ==> ['other vegetables'] 1 57\n",
            "Rule#  32 : ['citrus fruit', 'root vegetables'] ==> ['other vegetables'] 1 57\n",
            "Rule#  33 : ['root vegetables', 'tropical fruit'] ==> ['other vegetables'] 1 57\n",
            "Rule#  34 : ['root vegetables', 'tropical fruit'] ==> ['other vegetables'] 1 57\n",
            "Rule#  35 : ['other vegetables', 'yogurt'] ==> ['whole milk'] 2 52\n",
            "Rule#  36 : ['root vegetables', 'yogurt'] ==> ['other vegetables'] 1 50\n",
            "Rule#  37 : ['whipped/sour cream', 'yogurt'] ==> ['other vegetables'] 1 51\n",
            "Rule#  38 : ['other vegetables', 'yogurt'] ==> ['whole milk'] 2 52\n",
            "Rule#  39 : ['root vegetables', 'yogurt'] ==> ['other vegetables'] 1 50\n",
            "Rule#  40 : ['whipped/sour cream', 'yogurt'] ==> ['other vegetables'] 1 51\n",
            "Rule#  41 : ['other vegetables', 'pip fruit'] ==> ['whole milk'] 1 52\n",
            "Rule#  42 : ['other vegetables', 'pip fruit'] ==> ['whole milk'] 1 52\n",
            "Rule#  43 : ['other vegetables', 'yogurt'] ==> ['whole milk'] 2 52\n",
            "Rule#  44 : ['other vegetables', 'pip fruit'] ==> ['whole milk'] 1 52\n",
            "Rule#  45 : ['other vegetables', 'yogurt'] ==> ['whole milk'] 2 52\n",
            "Rule#  46 : ['other vegetables', 'pip fruit'] ==> ['whole milk'] 1 52\n",
            "Rule#  47 : ['other vegetables', 'whipped/sour cream'] ==> ['whole milk'] 1 50\n",
            "Rule#  48 : ['other vegetables', 'whipped/sour cream'] ==> ['whole milk'] 1 50\n",
            "Rule#  49 : ['butter', 'other vegetables'] ==> ['whole milk'] 1 57\n",
            "Rule#  50 : ['butter', 'other vegetables'] ==> ['whole milk'] 1 57\n",
            "Rule#  51 : ['rolls/buns', 'root vegetables'] ==> ['other vegetables'] 1 50\n",
            "Rule#  52 : ['rolls/buns', 'root vegetables'] ==> ['other vegetables'] 1 50\n",
            "Rule#  53 : ['root vegetables', 'tropical fruit'] ==> ['other vegetables'] 1 57\n",
            "Rule#  54 : ['root vegetables', 'yogurt'] ==> ['other vegetables'] 1 50\n",
            "Rule#  55 : ['root vegetables', 'tropical fruit'] ==> ['other vegetables'] 1 57\n",
            "Rule#  56 : ['root vegetables', 'yogurt'] ==> ['other vegetables'] 1 50\n",
            "Rule#  57 : ['rolls/buns', 'root vegetables'] ==> ['other vegetables'] 1 50\n",
            "Rule#  58 : ['rolls/buns', 'root vegetables'] ==> ['other vegetables'] 1 50\n",
            "Rule#  59 : ['whipped/sour cream', 'yogurt'] ==> ['other vegetables'] 1 51\n",
            "Rule#  60 : ['whipped/sour cream', 'yogurt'] ==> ['other vegetables'] 1 51\n",
            "Rule#  61 : ['other vegetables', 'whipped/sour cream'] ==> ['whole milk'] 1 50\n",
            "Rule#  62 : ['other vegetables', 'whipped/sour cream'] ==> ['whole milk'] 1 50\n",
            "Rule#  63 : ['domestic eggs', 'other vegetables'] ==> ['whole milk'] 1 57\n",
            "Rule#  64 : ['domestic eggs', 'other vegetables'] ==> ['whole milk'] 1 57\n",
            "Rule#  65 : ['tropical fruit', 'yogurt'] ==> ['whole milk'] 1 51\n",
            "Rule#  66 : ['tropical fruit', 'yogurt'] ==> ['whole milk'] 1 51\n",
            "Rule#  67 : ['other vegetables', 'yogurt'] ==> ['whole milk'] 2 52\n",
            "Rule#  68 : ['other vegetables', 'pip fruit'] ==> ['whole milk'] 1 52\n",
            "Rule#  69 : ['other vegetables', 'yogurt'] ==> ['whole milk'] 2 52\n",
            "Rule#  70 : ['other vegetables', 'pip fruit'] ==> ['whole milk'] 1 52\n",
            "Rule#  71 : ['other vegetables', 'whipped/sour cream'] ==> ['whole milk'] 1 50\n",
            "Rule#  72 : ['other vegetables', 'whipped/sour cream'] ==> ['whole milk'] 1 50\n",
            "Rule#  73 : ['butter', 'other vegetables'] ==> ['whole milk'] 1 57\n",
            "Rule#  74 : ['butter', 'other vegetables'] ==> ['whole milk'] 1 57\n",
            "Rule#  75 : ['rolls/buns', 'root vegetables'] ==> ['whole milk'] 1 51\n",
            "Rule#  76 : ['rolls/buns', 'root vegetables'] ==> ['whole milk'] 1 51\n",
            "Rule#  77 : ['root vegetables', 'tropical fruit'] ==> ['whole milk'] 1 55\n",
            "Rule#  78 : ['root vegetables', 'yogurt'] ==> ['whole milk'] 1 56\n",
            "Rule#  79 : ['root vegetables', 'tropical fruit'] ==> ['whole milk'] 1 55\n",
            "Rule#  80 : ['root vegetables', 'yogurt'] ==> ['whole milk'] 1 56\n",
            "Rule#  81 : ['whipped/sour cream', 'yogurt'] ==> ['whole milk'] 1 54\n",
            "Rule#  82 : ['whipped/sour cream', 'yogurt'] ==> ['whole milk'] 1 54\n",
            "Rule#  83 : ['domestic eggs', 'other vegetables'] ==> ['whole milk'] 1 57\n",
            "Rule#  84 : ['domestic eggs', 'other vegetables'] ==> ['whole milk'] 1 57\n",
            "Rule#  85 : ['butter', 'other vegetables'] ==> ['whole milk'] 1 57\n",
            "Rule#  86 : ['butter', 'other vegetables'] ==> ['whole milk'] 1 57\n",
            "Rule#  87 : ['butter', 'other vegetables'] ==> ['whole milk'] 1 57\n",
            "Rule#  88 : ['butter', 'other vegetables'] ==> ['whole milk'] 1 57\n",
            "Rule#  89 : ['rolls/buns', 'root vegetables'] ==> ['other vegetables'] 1 50\n",
            "Rule#  90 : ['rolls/buns', 'root vegetables'] ==> ['other vegetables'] 1 50\n",
            "Rule#  91 : ['rolls/buns', 'root vegetables'] ==> ['whole milk'] 1 51\n",
            "Rule#  92 : ['rolls/buns', 'root vegetables'] ==> ['whole milk'] 1 51\n",
            "Rule#  93 : ['rolls/buns', 'root vegetables'] ==> ['whole milk'] 1 51\n",
            "Rule#  94 : ['rolls/buns', 'root vegetables'] ==> ['whole milk'] 1 51\n",
            "Rule#  95 : ['citrus fruit', 'root vegetables'] ==> ['other vegetables'] 1 57\n",
            "Rule#  96 : ['citrus fruit', 'root vegetables'] ==> ['other vegetables'] 1 57\n",
            "Rule#  97 : ['root vegetables', 'tropical fruit'] ==> ['whole milk'] 1 55\n",
            "Rule#  98 : ['root vegetables', 'tropical fruit'] ==> ['whole milk'] 1 55\n",
            "Rule#  99 : ['root vegetables', 'yogurt'] ==> ['whole milk'] 1 56\n",
            "Rule#  100 : ['root vegetables', 'yogurt'] ==> ['whole milk'] 1 56\n",
            "Rule#  101 : ['root vegetables', 'tropical fruit'] ==> ['other vegetables'] 1 57\n",
            "Rule#  102 : ['root vegetables', 'yogurt'] ==> ['other vegetables'] 1 50\n",
            "Rule#  103 : ['root vegetables', 'tropical fruit'] ==> ['other vegetables'] 1 57\n",
            "Rule#  104 : ['root vegetables', 'yogurt'] ==> ['other vegetables'] 1 50\n",
            "Rule#  105 : ['rolls/buns', 'root vegetables'] ==> ['other vegetables'] 1 50\n",
            "Rule#  106 : ['rolls/buns', 'root vegetables'] ==> ['other vegetables'] 1 50\n",
            "Rule#  107 : ['root vegetables', 'tropical fruit'] ==> ['whole milk'] 1 55\n",
            "Rule#  108 : ['root vegetables', 'yogurt'] ==> ['whole milk'] 1 56\n",
            "Rule#  109 : ['root vegetables', 'tropical fruit'] ==> ['whole milk'] 1 55\n",
            "Rule#  110 : ['root vegetables', 'yogurt'] ==> ['whole milk'] 1 56\n",
            "Rule#  111 : ['rolls/buns', 'root vegetables'] ==> ['whole milk'] 1 51\n",
            "Rule#  112 : ['rolls/buns', 'root vegetables'] ==> ['whole milk'] 1 51\n",
            "Rule#  113 : ['whipped/sour cream', 'yogurt'] ==> ['whole milk'] 1 54\n",
            "Rule#  114 : ['whipped/sour cream', 'yogurt'] ==> ['whole milk'] 1 54\n",
            "Rule#  115 : ['whipped/sour cream', 'yogurt'] ==> ['other vegetables'] 1 51\n",
            "Rule#  116 : ['whipped/sour cream', 'yogurt'] ==> ['other vegetables'] 1 51\n",
            "Rule#  117 : ['other vegetables', 'whipped/sour cream'] ==> ['whole milk'] 1 50\n",
            "Rule#  118 : ['other vegetables', 'whipped/sour cream'] ==> ['whole milk'] 1 50\n",
            "Rule#  119 : ['whipped/sour cream', 'yogurt'] ==> ['whole milk'] 1 54\n",
            "Rule#  120 : ['whipped/sour cream', 'yogurt'] ==> ['whole milk'] 1 54\n",
            "Rule#  121 : ['domestic eggs', 'other vegetables'] ==> ['whole milk'] 1 57\n",
            "Rule#  122 : ['domestic eggs', 'other vegetables'] ==> ['whole milk'] 1 57\n",
            "Rule#  123 : ['domestic eggs', 'other vegetables'] ==> ['whole milk'] 1 57\n",
            "Rule#  124 : ['domestic eggs', 'other vegetables'] ==> ['whole milk'] 1 57\n"
          ],
          "name": "stdout"
        }
      ]
    },
    {
      "cell_type": "code",
      "metadata": {
        "id": "VyHp0HGtuOiL"
      },
      "source": [
        ""
      ],
      "execution_count": null,
      "outputs": []
    }
  ]
}