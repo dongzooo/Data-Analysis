{
  "nbformat": 4,
  "nbformat_minor": 0,
  "metadata": {
    "colab": {
      "name": "SVM(support vector machine).ipynb",
      "provenance": [],
      "collapsed_sections": [],
      "include_colab_link": true
    },
    "kernelspec": {
      "name": "python3",
      "display_name": "Python 3"
    },
    "language_info": {
      "name": "python"
    }
  },
  "cells": [
    {
      "cell_type": "markdown",
      "metadata": {
        "id": "view-in-github",
        "colab_type": "text"
      },
      "source": [
        "<a href=\"https://colab.research.google.com/github/dongzooo/Data-Analysis/blob/main/SVM(support_vector_machine).ipynb\" target=\"_parent\"><img src=\"https://colab.research.google.com/assets/colab-badge.svg\" alt=\"Open In Colab\"/></a>"
      ]
    },
    {
      "cell_type": "code",
      "metadata": {
        "id": "mHzQ8ZoHv8zV"
      },
      "source": [
        "import numpy as np\n",
        "import matplotlib.pyplot as plt\n",
        "from matplotlib import style\n",
        "style.use('ggplot')\n",
        "from sklearn import svm\n"
      ],
      "execution_count": null,
      "outputs": []
    },
    {
      "cell_type": "code",
      "metadata": {
        "id": "X_zXth8PwaUh"
      },
      "source": [
        "# 평면에 그려주기 위한 좌표 배열 \n",
        "x = [1, 5, 1.5, 8, 1, 9]  # array (배열)\n",
        "y = [2, 8, 1.8, 8, 0.6, 11] # array (배열)\n"
      ],
      "execution_count": null,
      "outputs": []
    },
    {
      "cell_type": "code",
      "metadata": {
        "colab": {
          "base_uri": "https://localhost:8080/",
          "height": 265
        },
        "id": "A5CE9_ViwpyY",
        "outputId": "d76c80aa-01d6-4f86-9375-1375a1de77ca"
      },
      "source": [
        "plt.scatter(x, y)\n",
        "plt.show()"
      ],
      "execution_count": null,
      "outputs": [
        {
          "output_type": "display_data",
          "data": {
            "image/png": "[encoded data removed]",
            "text/plain": [
              "<Figure size 432x288 with 1 Axes>"
            ]
          },
          "metadata": {
            "tags": [],
            "needs_background": "light"
          }
        }
      ]
    },
    {
      "cell_type": "code",
      "metadata": {
        "id": "h1ECYuLiw3ei"
      },
      "source": [
        "# 보통 machine learning에서 입력 데이터를 X라하고 class 데이터를 y라 칭함 \n",
        "# x = [1, 5, 1.5, 8, 1, 9]  # array (배열)\n",
        "# y = [2, 8, 1.8, 8, 0.6, 11] # array (배열)\n",
        "\n",
        "X = np.array([[1,2], [5,8], [1.5,1.8], [8,8], [1,0.6], [9,11]])\n"
      ],
      "execution_count": null,
      "outputs": []
    },
    {
      "cell_type": "code",
      "metadata": {
        "id": "kAcWC0Lrxm26"
      },
      "source": [
        "y = [0, 1, 0, 1, 0, 1]"
      ],
      "execution_count": null,
      "outputs": []
    },
    {
      "cell_type": "code",
      "metadata": {
        "id": "zr9QIDJqyD_D"
      },
      "source": [
        "# 비어있는/훈련하기 전의 모델을 정의함 \n",
        "clf = svm.SVC(kernel='linear', C=1.0)\n"
      ],
      "execution_count": null,
      "outputs": []
    },
    {
      "cell_type": "code",
      "metadata": {
        "colab": {
          "base_uri": "https://localhost:8080/"
        },
        "id": "iJHEOg-kyk5Y",
        "outputId": "0275dbb9-d402-4dd8-e416-ffd597fc6087"
      },
      "source": [
        "clf.fit(X, y)"
      ],
      "execution_count": null,
      "outputs": [
        {
          "output_type": "execute_result",
          "data": {
            "text/plain": [
              "SVC(C=1.0, break_ties=False, cache_size=200, class_weight=None, coef0=0.0,\n",
              "    decision_function_shape='ovr', degree=3, gamma='scale', kernel='linear',\n",
              "    max_iter=-1, probability=False, random_state=None, shrinking=True,\n",
              "    tol=0.001, verbose=False)"
            ]
          },
          "metadata": {
            "tags": []
          },
          "execution_count": 9
        }
      ]
    },
    {
      "cell_type": "code",
      "metadata": {
        "colab": {
          "base_uri": "https://localhost:8080/"
        },
        "id": "Ndp0Nukkywip",
        "outputId": "14ac8930-0b0d-422e-e676-bff7510398e8"
      },
      "source": [
        "# fit_predict()\n",
        "print(clf.predict([[0.3, 0.5]]))\n"
      ],
      "execution_count": null,
      "outputs": [
        {
          "output_type": "stream",
          "text": [
            "[0]\n"
          ],
          "name": "stdout"
        }
      ]
    },
    {
      "cell_type": "code",
      "metadata": {
        "colab": {
          "base_uri": "https://localhost:8080/"
        },
        "id": "LGEYltgqzIw9",
        "outputId": "095c73f0-71cf-4db9-be93-ea73731833b1"
      },
      "source": [
        "print(clf.predict([[7, 10]]))"
      ],
      "execution_count": null,
      "outputs": [
        {
          "output_type": "stream",
          "text": [
            "[1]\n"
          ],
          "name": "stdout"
        }
      ]
    },
    {
      "cell_type": "code",
      "metadata": {
        "colab": {
          "base_uri": "https://localhost:8080/"
        },
        "id": "veCEnGBuzPmL",
        "outputId": "a6d5dcbe-e6fe-4743-b222-b5d612a09356"
      },
      "source": [
        "print(clf.predict([[7, 10], [1, 3], [4, 2], [9, 15]]))"
      ],
      "execution_count": null,
      "outputs": [
        {
          "output_type": "stream",
          "text": [
            "[1 0 0 1]\n"
          ],
          "name": "stdout"
        }
      ]
    },
    {
      "cell_type": "code",
      "metadata": {
        "colab": {
          "base_uri": "https://localhost:8080/"
        },
        "id": "n-o2L2Mezd1a",
        "outputId": "04b06d39-23fe-4ecd-a9a7-d61d10eaa673"
      },
      "source": [
        "# g(x) = wx + b\n",
        "w = clf.coef_[0]\n",
        "print(w)"
      ],
      "execution_count": null,
      "outputs": [
        {
          "output_type": "stream",
          "text": [
            "[0.1380943  0.24462418]\n"
          ],
          "name": "stdout"
        }
      ]
    },
    {
      "cell_type": "code",
      "metadata": {
        "colab": {
          "base_uri": "https://localhost:8080/"
        },
        "id": "Qeggq4aczwuR",
        "outputId": "a54cb055-762a-405b-872d-7d0c4bbd8f77"
      },
      "source": [
        "a = -w[0]/w[1]\n",
        "\n",
        "xx = np.linspace(0, 12)\n",
        "yy = a*xx - clf.intercept_[0]/w[1]\n",
        "\n",
        "print('xx', xx)\n",
        "print('yy', yy)"
      ],
      "execution_count": null,
      "outputs": [
        {
          "output_type": "stream",
          "text": [
            "xx [ 0.          0.24489796  0.48979592  0.73469388  0.97959184  1.2244898\n",
            "  1.46938776  1.71428571  1.95918367  2.20408163  2.44897959  2.69387755\n",
            "  2.93877551  3.18367347  3.42857143  3.67346939  3.91836735  4.16326531\n",
            "  4.40816327  4.65306122  4.89795918  5.14285714  5.3877551   5.63265306\n",
            "  5.87755102  6.12244898  6.36734694  6.6122449   6.85714286  7.10204082\n",
            "  7.34693878  7.59183673  7.83673469  8.08163265  8.32653061  8.57142857\n",
            "  8.81632653  9.06122449  9.30612245  9.55102041  9.79591837 10.04081633\n",
            " 10.28571429 10.53061224 10.7755102  11.02040816 11.26530612 11.51020408\n",
            " 11.75510204 12.        ]\n",
            "yy [ 6.73467744  6.59642859  6.45817974  6.31993089  6.18168205  6.0434332\n",
            "  5.90518435  5.7669355   5.62868665  5.49043781  5.35218896  5.21394011\n",
            "  5.07569126  4.93744241  4.79919357  4.66094472  4.52269587  4.38444702\n",
            "  4.24619818  4.10794933  3.96970048  3.83145163  3.69320278  3.55495394\n",
            "  3.41670509  3.27845624  3.14020739  3.00195854  2.8637097   2.72546085\n",
            "  2.587212    2.44896315  2.3107143   2.17246546  2.03421661  1.89596776\n",
            "  1.75771891  1.61947006  1.48122122  1.34297237  1.20472352  1.06647467\n",
            "  0.92822582  0.78997698  0.65172813  0.51347928  0.37523043  0.23698159\n",
            "  0.09873274 -0.03951611]\n"
          ],
          "name": "stdout"
        }
      ]
    },
    {
      "cell_type": "code",
      "metadata": {
        "colab": {
          "base_uri": "https://localhost:8080/",
          "height": 265
        },
        "id": "p46PXpFU0RWN",
        "outputId": "b13bc0b8-5943-45c5-f498-34120ddd99f7"
      },
      "source": [
        "h0 = plt.plot(xx, yy, 'k-', label='non weighted')\n",
        "plt.scatter(X[:,0], X[:, 1], c=y)\n",
        "plt.legend()\n",
        "plt.show()"
      ],
      "execution_count": null,
      "outputs": [
        {
          "output_type": "display_data",
          "data": {
            "image/png": "[encoded data removed]",
            "text/plain": [
              "<Figure size 432x288 with 1 Axes>"
            ]
          },
          "metadata": {
            "tags": [],
            "needs_background": "light"
          }
        }
      ]
    },
    {
      "cell_type": "code",
      "metadata": {
        "id": "9dMzQd6g05Ss"
      },
      "source": [
        ""
      ],
      "execution_count": null,
      "outputs": []
    }
  ]
}
