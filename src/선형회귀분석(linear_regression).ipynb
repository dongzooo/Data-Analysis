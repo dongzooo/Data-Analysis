{
  "nbformat": 4,
  "nbformat_minor": 0,
  "metadata": {
    "colab": {
      "name": "선형회귀분석(linear_regression).ipynb",
      "provenance": [],
      "collapsed_sections": [],
      "include_colab_link": true
    },
    "kernelspec": {
      "name": "python3",
      "display_name": "Python 3"
    },
    "language_info": {
      "name": "python"
    }
  },
  "cells": [
    {
      "cell_type": "markdown",
      "metadata": {
        "id": "view-in-github",
        "colab_type": "text"
      },
      "source": [
        "<a href=\"https://colab.research.google.com/github/dongzooo/Data-Analysis/blob/main/%EC%84%A0%ED%98%95%ED%9A%8C%EA%B7%80%EB%B6%84%EC%84%9D(linear_regression).ipynb\" target=\"_parent\"><img src=\"https://colab.research.google.com/assets/colab-badge.svg\" alt=\"Open In Colab\"/></a>"
      ]
    },
    {
      "cell_type": "code",
      "metadata": {
        "id": "Shs237yoecrf"
      },
      "source": [
        "# 필요한 라이브러리 import \n",
        "\n",
        "import numpy as np # 데이터를 임의로 만들어내는데 필요 \n",
        "from sklearn.linear_model import LinearRegression\n"
      ],
      "execution_count": null,
      "outputs": []
    },
    {
      "cell_type": "code",
      "metadata": {
        "id": "fH86yjHhf_cy"
      },
      "source": [
        "# 실험용으로 데이터 만들기\n",
        "# single independant variable x, output: y\n",
        "x = np.array([5, 15, 25, 35, 45, 55]).reshape((-1,1))\n",
        "y = np.array([5, 20, 14, 32, 33, 38])"
      ],
      "execution_count": null,
      "outputs": []
    },
    {
      "cell_type": "code",
      "metadata": {
        "colab": {
          "base_uri": "https://localhost:8080/"
        },
        "id": "tEwNgDu7gukY",
        "outputId": "d2acad95-6e33-4d17-bbf0-adcbc51d6277"
      },
      "source": [
        "x "
      ],
      "execution_count": null,
      "outputs": [
        {
          "output_type": "execute_result",
          "data": {
            "text/plain": [
              "array([[ 5],\n",
              "       [15],\n",
              "       [25],\n",
              "       [35],\n",
              "       [45],\n",
              "       [55]])"
            ]
          },
          "metadata": {
            "tags": []
          },
          "execution_count": 18
        }
      ]
    },
    {
      "cell_type": "code",
      "metadata": {
        "id": "--OiPrQPg1lK"
      },
      "source": [
        "model = LinearRegression()\n",
        "# default option으로 model을 만듬\n",
        "# 여기의 model은 빈 모델 \n"
      ],
      "execution_count": null,
      "outputs": []
    },
    {
      "cell_type": "code",
      "metadata": {
        "colab": {
          "base_uri": "https://localhost:8080/"
        },
        "id": "YJ9d4dfkhqBw",
        "outputId": "6de1c3ed-44b0-4fa4-97d5-7c218e2749b9"
      },
      "source": [
        "# x, y\n",
        "model.fit(x, y)"
      ],
      "execution_count": null,
      "outputs": [
        {
          "output_type": "execute_result",
          "data": {
            "text/plain": [
              "LinearRegression(copy_X=True, fit_intercept=True, n_jobs=None, normalize=False)"
            ]
          },
          "metadata": {
            "tags": []
          },
          "execution_count": 20
        }
      ]
    },
    {
      "cell_type": "code",
      "metadata": {
        "colab": {
          "base_uri": "https://localhost:8080/"
        },
        "id": "JR-eCPwyhrJ7",
        "outputId": "60fc5234-1da2-4e1d-81c5-f552f2f53985"
      },
      "source": [
        "r_sq = model.score(x, y)\n",
        "print('coeffient of determination: ', r_sq)"
      ],
      "execution_count": null,
      "outputs": [
        {
          "output_type": "stream",
          "text": [
            "coeffient of determination:  0.8614075972966675\n"
          ],
          "name": "stdout"
        }
      ]
    },
    {
      "cell_type": "code",
      "metadata": {
        "colab": {
          "base_uri": "https://localhost:8080/"
        },
        "id": "eV2346RmiQYS",
        "outputId": "72f8971a-4699-47f3-d37a-cea23eb8b5a8"
      },
      "source": [
        "print('intercept: ', model.intercept_)\n",
        "print('coeffient of determination: ', model.coef_)\n",
        "\n",
        "# y = 0.6343x + 4.6381\n"
      ],
      "execution_count": null,
      "outputs": [
        {
          "output_type": "stream",
          "text": [
            "intercept:  4.638095238095236\n",
            "coeffient of determination:  [0.63428571]\n"
          ],
          "name": "stdout"
        }
      ]
    },
    {
      "cell_type": "code",
      "metadata": {
        "colab": {
          "base_uri": "https://localhost:8080/"
        },
        "id": "TEMZEn7KjHVq",
        "outputId": "3869a7e3-4fa8-4890-9d12-02b11753735c"
      },
      "source": [
        "y_pred = model.predict(x)\n",
        "print(y_pred)"
      ],
      "execution_count": null,
      "outputs": [
        {
          "output_type": "stream",
          "text": [
            "[ 7.80952381 14.15238095 20.4952381  26.83809524 33.18095238 39.52380952]\n"
          ],
          "name": "stdout"
        }
      ]
    },
    {
      "cell_type": "code",
      "metadata": {
        "id": "S9Yy9JfHjtlv"
      },
      "source": [
        "\n",
        "# predicted: [ 7.80952381 14.15238095 20.4952381  26.83809524 33.18095238 39.52380952]\n",
        "# provided: [5, 20, 14, 32, 33, 38]\n"
      ],
      "execution_count": null,
      "outputs": []
    },
    {
      "cell_type": "code",
      "metadata": {
        "colab": {
          "base_uri": "https://localhost:8080/"
        },
        "id": "Q7aY57_ykIIA",
        "outputId": "ad232f08-44ed-4f3a-c649-f957ebabb13d"
      },
      "source": [
        "x_new = np.arange(5).reshape((-1,1))\n",
        "print(x_new)"
      ],
      "execution_count": null,
      "outputs": [
        {
          "output_type": "stream",
          "text": [
            "[[0]\n",
            " [1]\n",
            " [2]\n",
            " [3]\n",
            " [4]]\n"
          ],
          "name": "stdout"
        }
      ]
    },
    {
      "cell_type": "code",
      "metadata": {
        "colab": {
          "base_uri": "https://localhost:8080/"
        },
        "id": "Lq9byok2kdWp",
        "outputId": "205c9570-b5c6-4d52-e428-25904e4a2463"
      },
      "source": [
        "print(y)"
      ],
      "execution_count": null,
      "outputs": [
        {
          "output_type": "stream",
          "text": [
            "[ 5 20 14 32 33 38]\n"
          ],
          "name": "stdout"
        }
      ]
    },
    {
      "cell_type": "code",
      "metadata": {
        "colab": {
          "base_uri": "https://localhost:8080/"
        },
        "id": "F1TVcjMEky2T",
        "outputId": "13d42752-84f5-4761-9c94-cbdf0de94c64"
      },
      "source": [
        "y_new = model.predict(x_new)\n",
        "print(y_new)"
      ],
      "execution_count": null,
      "outputs": [
        {
          "output_type": "stream",
          "text": [
            "[4.63809524 5.27238095 5.90666667 6.54095238 7.1752381 ]\n"
          ],
          "name": "stdout"
        }
      ]
    },
    {
      "cell_type": "code",
      "metadata": {
        "id": "vKAVVgfBlUWM"
      },
      "source": [
        "# 다중회귀\n",
        "# x를 2 dimensional (2D) array로 만든다 \n",
        "x = [[0, 1],[5, 1],[15, 2],[25, 5],[35, 11],[45, 15],[55, 34],[60, 35]]\n",
        "y = [4, 5, 20, 14, 32, 22, 38, 43]\n"
      ],
      "execution_count": null,
      "outputs": []
    },
    {
      "cell_type": "code",
      "metadata": {
        "id": "EINsZ8wsmY_4"
      },
      "source": [
        "x = np.array(x)\n",
        "y = np.array(y)\n",
        "# x, y = np.array(x), np.array(y)"
      ],
      "execution_count": null,
      "outputs": []
    },
    {
      "cell_type": "code",
      "metadata": {
        "colab": {
          "base_uri": "https://localhost:8080/"
        },
        "id": "1EZGYCV5m3Ly",
        "outputId": "dfe1a945-fb30-46d6-f272-36207f6845f0"
      },
      "source": [
        "print(y)"
      ],
      "execution_count": null,
      "outputs": [
        {
          "output_type": "stream",
          "text": [
            "[ 4  5 20 14 32 22 38 43]\n"
          ],
          "name": "stdout"
        }
      ]
    },
    {
      "cell_type": "code",
      "metadata": {
        "id": "1jJehEe5m51f"
      },
      "source": [
        "# model = LinearRegression()\n",
        "# model.fit(x, y)\n",
        "model = LinearRegression().fit(x, y)"
      ],
      "execution_count": null,
      "outputs": []
    },
    {
      "cell_type": "code",
      "metadata": {
        "colab": {
          "base_uri": "https://localhost:8080/"
        },
        "id": "o2yGi_-insW8",
        "outputId": "b4952818-de65-471d-8c93-58b2de74abc8"
      },
      "source": [
        "r_sq = model.score(x, y)\n",
        "intercept = model.intercept_\n",
        "coefficient = model.coef_\n",
        "\n",
        "print('r sqaure: ', r_sq)\n",
        "print('intercept: ', intercept)\n",
        "print('coefficient: ', coefficient)"
      ],
      "execution_count": null,
      "outputs": [
        {
          "output_type": "stream",
          "text": [
            "r sqaure:  0.8615939258756776\n",
            "intercept:  5.52257927519819\n",
            "coefficient:  [0.44706965 0.25502548]\n"
          ],
          "name": "stdout"
        }
      ]
    },
    {
      "cell_type": "code",
      "metadata": {
        "colab": {
          "base_uri": "https://localhost:8080/"
        },
        "id": "1JKAfIPIoMOk",
        "outputId": "45071ad0-5e5a-48ef-a736-7ebadac42bb6"
      },
      "source": [
        "y_pred = model.predict(x)\n",
        "print(y_pred)"
      ],
      "execution_count": null,
      "outputs": [
        {
          "output_type": "stream",
          "text": [
            "[ 5.77760476  8.012953   12.73867497 17.9744479  23.97529728 29.4660957\n",
            " 38.78227633 41.27265006]\n"
          ],
          "name": "stdout"
        }
      ]
    },
    {
      "cell_type": "code",
      "metadata": {
        "id": "qyieJ5B5oo8n"
      },
      "source": [
        "# [ 5.77760476  8.012953   12.73867497 17.9744479  23.97529728 29.4660957 38.78227633 41.27265006]\n",
        "# [4, 5, 20, 14, 32, 22, 38, 43]\n",
        "x_new = [[1, 15], [3,28], [25, 34]]\n",
        "x_new = np.array(x_new)"
      ],
      "execution_count": null,
      "outputs": []
    },
    {
      "cell_type": "code",
      "metadata": {
        "colab": {
          "base_uri": "https://localhost:8080/"
        },
        "id": "bb5bedUvpCvL",
        "outputId": "e091d8ff-4580-4382-fbe7-d18daa5a1952"
      },
      "source": [
        "x_new"
      ],
      "execution_count": null,
      "outputs": [
        {
          "output_type": "execute_result",
          "data": {
            "text/plain": [
              "array([[ 1, 15],\n",
              "       [ 3, 28],\n",
              "       [25, 34]])"
            ]
          },
          "metadata": {
            "tags": []
          },
          "execution_count": 40
        }
      ]
    },
    {
      "cell_type": "code",
      "metadata": {
        "colab": {
          "base_uri": "https://localhost:8080/"
        },
        "id": "bmMLpsgCpDts",
        "outputId": "80c5f3e1-07c3-4141-df5a-3585e3675a71"
      },
      "source": [
        "y_pred = model.predict(x_new)\n",
        "print(y_pred)"
      ],
      "execution_count": null,
      "outputs": [
        {
          "output_type": "stream",
          "text": [
            "[ 9.79503114 14.0045017  25.37018686]\n"
          ],
          "name": "stdout"
        }
      ]
    },
    {
      "cell_type": "code",
      "metadata": {
        "id": "MNB_OY7IpJ__"
      },
      "source": [
        ""
      ],
      "execution_count": null,
      "outputs": []
    }
  ]
}
